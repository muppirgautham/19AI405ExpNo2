{
  "nbformat": 4,
  "nbformat_minor": 0,
  "metadata": {
    "colab": {
      "provenance": []
    },
    "kernelspec": {
      "name": "python3",
      "display_name": "Python 3"
    },
    "language_info": {
      "name": "python"
    }
  },
  "cells": [
    {
      "cell_type": "code",
      "execution_count": null,
      "metadata": {
        "colab": {
          "base_uri": "https://localhost:8080/"
        },
        "id": "8vA3kWqUJNU6",
        "outputId": "e2841970-90f1-4a95-9446-60a2865ed221"
      },
      "outputs": [
        {
          "output_type": "stream",
          "name": "stdout",
          "text": [
            "8 9\n",
            "A B\n",
            "A C\n",
            "B E\n",
            "C D\n",
            "B D\n",
            "C G\n",
            "D F\n",
            "G F\n",
            "F H\n",
            "['A', 'B', 'E', 'D', 'C', 'G', 'F', 'H']\n"
          ]
        }
      ],
      "source": [
        "from collections import defaultdict\n",
        "def dfs(graph,start,visited,path):\n",
        "    path.append(start)\n",
        "    visited[start]=True\n",
        "    for neighbour in graph[start]:\n",
        "        if visited[neighbour]==False:\n",
        "            dfs(graph,neighbour,visited,path)\n",
        "            visited[neighbour]=True\n",
        "    return path\n",
        "graph=defaultdict(list)\n",
        "n,e=map(int,input().split())\n",
        "for i in range(e):\n",
        "    u,v=map(str,input().split())\n",
        "    graph[u].append(v)\n",
        "    graph[v].append(u)\n",
        "#print(graph)\n",
        "start='A'\n",
        "visited=defaultdict(bool)\n",
        "path=[]\n",
        "traversedpath=dfs(graph,start,visited,path)\n",
        "print(traversedpath)"
      ]
    },
    {
      "cell_type": "code",
      "source": [
        "from collections import defaultdict\n",
        "def dfs(graph,start,visited,path):\n",
        "    path.append(start)\n",
        "    visited[start]=True\n",
        "    for neighbour in graph[start]:\n",
        "        if visited[neighbour]==False:\n",
        "            dfs(graph,neighbour,visited,path)\n",
        "            visited[neighbour]=True\n",
        "    return path\n",
        "graph=defaultdict(list)\n",
        "n,e=map(int,input().split())\n",
        "for i in range(e):\n",
        "    u,v=map(str,input().split())\n",
        "    graph[u].append(v)\n",
        "    graph[v].append(u)\n",
        "#print(graph)\n",
        "start='0'\n",
        "visited=defaultdict(bool)\n",
        "path=[]\n",
        "traversedpath=dfs(graph,start,visited,path)\n",
        "print(traversedpath)"
      ],
      "metadata": {
        "colab": {
          "base_uri": "https://localhost:8080/"
        },
        "id": "uqu41VmfZ91k",
        "outputId": "592ac30f-3761-46dd-bd2e-fca7cc3718c8"
      },
      "execution_count": 5,
      "outputs": [
        {
          "output_type": "stream",
          "name": "stdout",
          "text": [
            "5 5\n",
            "0 1\n",
            "0 2\n",
            "0 3\n",
            "2 3\n",
            "2 4\n",
            "['0', '1', '2', '3', '4']\n"
          ]
        }
      ]
    }
  ]
}